{
 "cells": [
  {
   "cell_type": "markdown",
   "metadata": {},
   "source": [
    "### Sweetviz Analysis for Mushroom and VGChartz Datasets\n",
    "\n",
    "#### Mushroom Dataset\n",
    "Running Sweetviz on the Mushroom dataset provided valuable insights. The report highlighted the strong relationships between features, particularly how certain attributes, like `bruises` and `odor`, significantly impact whether a mushroom is edible or poisonous. This insight emphasizes the importance of these features in our classification model.\n",
    "\n",
    "#### VGChartz Dataset\n",
    "In the VGChartz dataset, Sweetviz revealed intriguing correlations between `user_score` and `total_sales`. Higher user scores generally align with greater sales, which underscores the relevance of this feature for predicting a game’s commercial success. This finding suggests that we should prioritize these features in our analysis.\n"
   ]
  },
  {
   "cell_type": "code",
   "execution_count": 1,
   "metadata": {},
   "outputs": [
    {
     "name": "stderr",
     "output_type": "stream",
     "text": [
      "c:\\Users\\gabyd\\AppData\\Local\\Programs\\Python\\Python39\\lib\\site-packages\\tqdm\\auto.py:21: TqdmWarning: IProgress not found. Please update jupyter and ipywidgets. See https://ipywidgets.readthedocs.io/en/stable/user_install.html\n",
      "  from .autonotebook import tqdm as notebook_tqdm\n",
      "Done! Use 'show' commands to display/save.   |██████████| [100%]   00:00 -> (00:00 left)\n"
     ]
    },
    {
     "name": "stdout",
     "output_type": "stream",
     "text": [
      "Report SweetvizMushrooms.html was generated! NOTEBOOK/COLAB USERS: the web browser MAY not pop up, regardless, the report IS saved in your notebook/colab files.\n"
     ]
    },
    {
     "name": "stderr",
     "output_type": "stream",
     "text": [
      "Done! Use 'show' commands to display/save.   |██████████| [100%]   00:00 -> (00:00 left)\n"
     ]
    },
    {
     "name": "stdout",
     "output_type": "stream",
     "text": [
      "Report SweetvizGames.html was generated! NOTEBOOK/COLAB USERS: the web browser MAY not pop up, regardless, the report IS saved in your notebook/colab files.\n"
     ]
    }
   ],
   "source": [
    "import sweetviz as sv\n",
    "import pandas as pd\n",
    "\n",
    "#Classification\n",
    "dfMushrooms = pd.read_csv(\"../Model/mushrooms.csv\")\n",
    "reportMushrooms = sv.analyze(dfMushrooms)\n",
    "reportMushrooms.show_html('SweetvizMushrooms.html')\n",
    "\n",
    "#Regression\n",
    "dfGames = pd.read_csv(\"../Model/VGChartzGamesSalesDataset.csv\")\n",
    "reportGames = sv.analyze(dfGames)\n",
    "reportGames.show_html('SweetvizGames.html')"
   ]
  }
 ],
 "metadata": {
  "kernelspec": {
   "display_name": "Python 3",
   "language": "python",
   "name": "python3"
  },
  "language_info": {
   "codemirror_mode": {
    "name": "ipython",
    "version": 3
   },
   "file_extension": ".py",
   "mimetype": "text/x-python",
   "name": "python",
   "nbconvert_exporter": "python",
   "pygments_lexer": "ipython3",
   "version": "3.9.13"
  }
 },
 "nbformat": 4,
 "nbformat_minor": 2
}
