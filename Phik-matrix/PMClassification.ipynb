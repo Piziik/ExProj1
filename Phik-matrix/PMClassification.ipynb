{
 "cells": [
  {
   "cell_type": "code",
   "execution_count": 1,
   "metadata": {},
   "outputs": [
    {
     "name": "stderr",
     "output_type": "stream",
     "text": [
      "c:\\Users\\gabyd\\AppData\\Local\\Programs\\Python\\Python39\\lib\\site-packages\\phik\\data_quality.py:82: UserWarning: Not enough unique value for variable veil-type for analysis 1. Dropping this column\n",
      "  warnings.warn(\n"
     ]
    }
   ],
   "source": [
    "import phik\n",
    "import pandas as pd\n",
    "\n",
    "#Classification\n",
    "dfMushrooms = pd.read_csv(\"../Model/mushrooms.csv\")\n",
    "dfMushroomssample = dfMushrooms.sample(500)\n",
    "phik_matrixMushrooms = dfMushroomssample.phik_matrix()\n",
    "phik_matrixMushrooms"
   ]
  }
 ],
 "metadata": {
  "kernelspec": {
   "display_name": "Python 3",
   "language": "python",
   "name": "python3"
  },
  "language_info": {
   "codemirror_mode": {
    "name": "ipython",
    "version": 3
   },
   "file_extension": ".py",
   "mimetype": "text/x-python",
   "name": "python",
   "nbconvert_exporter": "python",
   "pygments_lexer": "ipython3",
   "version": "3.9.13"
  }
 },
 "nbformat": 4,
 "nbformat_minor": 2
}
