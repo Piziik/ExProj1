{
 "cells": [
  {
   "cell_type": "code",
   "execution_count": 1,
   "metadata": {},
   "outputs": [
    {
     "name": "stdout",
     "output_type": "stream",
     "text": [
      "interval columns not set, guessing: ['vgchartz_score', 'critic_score', 'user_score', 'total_shipped', 'total_sales']\n"
     ]
    }
   ],
   "source": [
    "import phik\n",
    "import pandas as pd\n",
    "\n",
    "df = pd.read_csv(\"../Model/VGChartzGamesSalesDataset.csv\")\n",
    "dfsample = df.sample(500)\n",
    "\n",
    "phik_matrix = dfsample.phik_matrix()\n",
    "phik_matrix"
   ]
  }
 ],
 "metadata": {
  "kernelspec": {
   "display_name": "Python 3",
   "language": "python",
   "name": "python3"
  },
  "language_info": {
   "codemirror_mode": {
    "name": "ipython",
    "version": 3
   },
   "file_extension": ".py",
   "mimetype": "text/x-python",
   "name": "python",
   "nbconvert_exporter": "python",
   "pygments_lexer": "ipython3",
   "version": "3.9.13"
  }
 },
 "nbformat": 4,
 "nbformat_minor": 2
}
